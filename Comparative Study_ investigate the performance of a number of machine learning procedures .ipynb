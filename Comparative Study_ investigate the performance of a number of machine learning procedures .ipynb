{
 "cells": [
  {
   "cell_type": "markdown",
   "id": "3cf80b08",
   "metadata": {},
   "source": [
    "# INVESTIGATE THE PERFORMANCE OF A NUMBER OF MACHINE LEARNING PROCEDURES ON THIS DATASET USING PYTHON/SCIKIT-LEARN."
   ]
  },
  {
   "cell_type": "markdown",
   "id": "7c0d0c87",
   "metadata": {},
   "source": [
    "## DATA PRE-PROCESSING"
   ]
  },
  {
   "cell_type": "markdown",
   "id": "9ab2302f",
   "metadata": {},
   "source": [
    "#### Importing necessary libraries"
   ]
  },
  {
   "cell_type": "code",
   "execution_count": 1,
   "id": "000b065c",
   "metadata": {},
   "outputs": [],
   "source": [
    "from sklearn.tree import DecisionTreeClassifier\n",
    "from sklearn.model_selection import train_test_split\n",
    "from sklearn.metrics import classification_report\n",
    "import pandas as pd\n",
    "from sklearn.preprocessing import StandardScaler"
   ]
  },
  {
   "cell_type": "code",
   "execution_count": 2,
   "id": "ba1c649c",
   "metadata": {},
   "outputs": [
    {
     "data": {
      "text/html": [
       "<div>\n",
       "<style scoped>\n",
       "    .dataframe tbody tr th:only-of-type {\n",
       "        vertical-align: middle;\n",
       "    }\n",
       "\n",
       "    .dataframe tbody tr th {\n",
       "        vertical-align: top;\n",
       "    }\n",
       "\n",
       "    .dataframe thead th {\n",
       "        text-align: right;\n",
       "    }\n",
       "</style>\n",
       "<table border=\"1\" class=\"dataframe\">\n",
       "  <thead>\n",
       "    <tr style=\"text-align: right;\">\n",
       "      <th></th>\n",
       "      <th>F1</th>\n",
       "      <th>F2</th>\n",
       "      <th>F3</th>\n",
       "      <th>F4</th>\n",
       "      <th>F5</th>\n",
       "      <th>F6</th>\n",
       "      <th>F7</th>\n",
       "      <th>F8</th>\n",
       "      <th>C</th>\n",
       "    </tr>\n",
       "  </thead>\n",
       "  <tbody>\n",
       "    <tr>\n",
       "      <th>0</th>\n",
       "      <td>1</td>\n",
       "      <td>0.73</td>\n",
       "      <td>14</td>\n",
       "      <td>2.49</td>\n",
       "      <td>2</td>\n",
       "      <td>0.89</td>\n",
       "      <td>1</td>\n",
       "      <td>0.60</td>\n",
       "      <td>True</td>\n",
       "    </tr>\n",
       "    <tr>\n",
       "      <th>1</th>\n",
       "      <td>3</td>\n",
       "      <td>0.65</td>\n",
       "      <td>15</td>\n",
       "      <td>1.51</td>\n",
       "      <td>9</td>\n",
       "      <td>0.91</td>\n",
       "      <td>1</td>\n",
       "      <td>0.68</td>\n",
       "      <td>True</td>\n",
       "    </tr>\n",
       "    <tr>\n",
       "      <th>2</th>\n",
       "      <td>-10</td>\n",
       "      <td>0.21</td>\n",
       "      <td>39</td>\n",
       "      <td>1.67</td>\n",
       "      <td>5</td>\n",
       "      <td>0.10</td>\n",
       "      <td>1</td>\n",
       "      <td>0.58</td>\n",
       "      <td>True</td>\n",
       "    </tr>\n",
       "    <tr>\n",
       "      <th>3</th>\n",
       "      <td>-12</td>\n",
       "      <td>1.45</td>\n",
       "      <td>20</td>\n",
       "      <td>-1.54</td>\n",
       "      <td>9</td>\n",
       "      <td>0.70</td>\n",
       "      <td>1</td>\n",
       "      <td>0.27</td>\n",
       "      <td>True</td>\n",
       "    </tr>\n",
       "    <tr>\n",
       "      <th>4</th>\n",
       "      <td>13</td>\n",
       "      <td>0.03</td>\n",
       "      <td>41</td>\n",
       "      <td>2.21</td>\n",
       "      <td>9</td>\n",
       "      <td>0.39</td>\n",
       "      <td>1</td>\n",
       "      <td>1.03</td>\n",
       "      <td>False</td>\n",
       "    </tr>\n",
       "    <tr>\n",
       "      <th>...</th>\n",
       "      <td>...</td>\n",
       "      <td>...</td>\n",
       "      <td>...</td>\n",
       "      <td>...</td>\n",
       "      <td>...</td>\n",
       "      <td>...</td>\n",
       "      <td>...</td>\n",
       "      <td>...</td>\n",
       "      <td>...</td>\n",
       "    </tr>\n",
       "    <tr>\n",
       "      <th>995</th>\n",
       "      <td>2</td>\n",
       "      <td>1.51</td>\n",
       "      <td>2</td>\n",
       "      <td>-1.76</td>\n",
       "      <td>10</td>\n",
       "      <td>0.74</td>\n",
       "      <td>1</td>\n",
       "      <td>0.09</td>\n",
       "      <td>True</td>\n",
       "    </tr>\n",
       "    <tr>\n",
       "      <th>996</th>\n",
       "      <td>-13</td>\n",
       "      <td>0.12</td>\n",
       "      <td>10</td>\n",
       "      <td>2.08</td>\n",
       "      <td>0</td>\n",
       "      <td>0.10</td>\n",
       "      <td>1</td>\n",
       "      <td>0.35</td>\n",
       "      <td>True</td>\n",
       "    </tr>\n",
       "    <tr>\n",
       "      <th>997</th>\n",
       "      <td>-10</td>\n",
       "      <td>1.74</td>\n",
       "      <td>4</td>\n",
       "      <td>-2.37</td>\n",
       "      <td>5</td>\n",
       "      <td>0.71</td>\n",
       "      <td>1</td>\n",
       "      <td>0.61</td>\n",
       "      <td>False</td>\n",
       "    </tr>\n",
       "    <tr>\n",
       "      <th>998</th>\n",
       "      <td>-18</td>\n",
       "      <td>1.33</td>\n",
       "      <td>66</td>\n",
       "      <td>2.09</td>\n",
       "      <td>4</td>\n",
       "      <td>0.26</td>\n",
       "      <td>1</td>\n",
       "      <td>0.36</td>\n",
       "      <td>True</td>\n",
       "    </tr>\n",
       "    <tr>\n",
       "      <th>999</th>\n",
       "      <td>15</td>\n",
       "      <td>0.34</td>\n",
       "      <td>23</td>\n",
       "      <td>-1.23</td>\n",
       "      <td>0</td>\n",
       "      <td>0.88</td>\n",
       "      <td>1</td>\n",
       "      <td>0.03</td>\n",
       "      <td>False</td>\n",
       "    </tr>\n",
       "  </tbody>\n",
       "</table>\n",
       "<p>1000 rows × 9 columns</p>\n",
       "</div>"
      ],
      "text/plain": [
       "     F1    F2  F3    F4  F5    F6  F7    F8      C\n",
       "0     1  0.73  14  2.49   2  0.89   1  0.60   True\n",
       "1     3  0.65  15  1.51   9  0.91   1  0.68   True\n",
       "2   -10  0.21  39  1.67   5  0.10   1  0.58   True\n",
       "3   -12  1.45  20 -1.54   9  0.70   1  0.27   True\n",
       "4    13  0.03  41  2.21   9  0.39   1  1.03  False\n",
       "..   ..   ...  ..   ...  ..   ...  ..   ...    ...\n",
       "995   2  1.51   2 -1.76  10  0.74   1  0.09   True\n",
       "996 -13  0.12  10  2.08   0  0.10   1  0.35   True\n",
       "997 -10  1.74   4 -2.37   5  0.71   1  0.61  False\n",
       "998 -18  1.33  66  2.09   4  0.26   1  0.36   True\n",
       "999  15  0.34  23 -1.23   0  0.88   1  0.03  False\n",
       "\n",
       "[1000 rows x 9 columns]"
      ]
     },
     "execution_count": 2,
     "metadata": {},
     "output_type": "execute_result"
    }
   ],
   "source": [
    "data = pd.read_csv('CE802_Ass_Resit.csv')\n",
    "data"
   ]
  },
  {
   "cell_type": "markdown",
   "id": "23a357a4",
   "metadata": {},
   "source": [
    "#### Checking the data types"
   ]
  },
  {
   "cell_type": "code",
   "execution_count": 3,
   "id": "5d96581c",
   "metadata": {},
   "outputs": [
    {
     "data": {
      "text/plain": [
       "F1      int64\n",
       "F2    float64\n",
       "F3      int64\n",
       "F4    float64\n",
       "F5      int64\n",
       "F6    float64\n",
       "F7      int64\n",
       "F8    float64\n",
       "C        bool\n",
       "dtype: object"
      ]
     },
     "execution_count": 3,
     "metadata": {},
     "output_type": "execute_result"
    }
   ],
   "source": [
    "data.dtypes"
   ]
  },
  {
   "cell_type": "markdown",
   "id": "38b9515c",
   "metadata": {},
   "source": [
    "#### Transfering the data to two numpy arrays, one containing the variables (features) and another the labels (ground truth)."
   ]
  },
  {
   "cell_type": "code",
   "execution_count": 4,
   "id": "3e2b12df",
   "metadata": {},
   "outputs": [],
   "source": [
    "import numpy as np\n",
    "x = data.loc[:, data.columns != 'C'].to_numpy() #features\n",
    "y = data.loc[:, data.columns == 'C'].to_numpy() #labels"
   ]
  },
  {
   "cell_type": "code",
   "execution_count": 5,
   "id": "b97ec709",
   "metadata": {},
   "outputs": [
    {
     "name": "stdout",
     "output_type": "stream",
     "text": [
      "(1000, 9)\n"
     ]
    }
   ],
   "source": [
    "print(data.shape)"
   ]
  },
  {
   "cell_type": "code",
   "execution_count": 6,
   "id": "2e0349e0",
   "metadata": {},
   "outputs": [
    {
     "name": "stdout",
     "output_type": "stream",
     "text": [
      "(1000, 8) (1000, 1)\n"
     ]
    }
   ],
   "source": [
    "print(x.shape, y.shape)"
   ]
  },
  {
   "cell_type": "markdown",
   "id": "46dffe06",
   "metadata": {},
   "source": [
    "#### Identifying false predictors"
   ]
  },
  {
   "cell_type": "code",
   "execution_count": 7,
   "id": "1977c4f5",
   "metadata": {},
   "outputs": [
    {
     "data": {
      "image/png": "[encoded data removed]",
      "text/plain": [
       "<Figure size 576x432 with 8 Axes>"
      ]
     },
     "metadata": {
      "needs_background": "light"
     },
     "output_type": "display_data"
    }
   ],
   "source": [
    "import matplotlib.pyplot as plt\n",
    "\n",
    "plt.figure(figsize=(8,6))\n",
    "for i in range(x.shape[1]):\n",
    "    plt.subplot(3, 7, i+1)\n",
    "    plt.scatter(y,x[:,i])\n",
    "    plt.xticks([0, 1])\n",
    "    plt.title(data.columns[i])\n",
    "    # Save the plot as an image file\n",
    "    plt.savefig('false_predictors.png', dpi=300)"
   ]
  },
  {
   "cell_type": "code",
   "execution_count": 8,
   "id": "e591d53c",
   "metadata": {},
   "outputs": [
    {
     "data": {
      "text/plain": [
       "array([0, 0, 0, 0, 0, 0, 0, 0])"
      ]
     },
     "execution_count": 8,
     "metadata": {},
     "output_type": "execute_result"
    }
   ],
   "source": [
    "np.sum(np.isnan(x), 0)"
   ]
  },
  {
   "cell_type": "code",
   "execution_count": 9,
   "id": "a45923c8",
   "metadata": {},
   "outputs": [
    {
     "data": {
      "text/plain": [
       "array([0])"
      ]
     },
     "execution_count": 9,
     "metadata": {},
     "output_type": "execute_result"
    }
   ],
   "source": [
    "np.sum(np.isnan(y), 0)"
   ]
  },
  {
   "cell_type": "markdown",
   "id": "10cadbbc",
   "metadata": {},
   "source": [
    "From the code above we can see that none of features and the labels had missing values."
   ]
  },
  {
   "cell_type": "markdown",
   "id": "ab627f9d",
   "metadata": {},
   "source": [
    "#### Convert the label's column vector to a 1d array"
   ]
  },
  {
   "cell_type": "code",
   "execution_count": 10,
   "id": "7f6f3856",
   "metadata": {},
   "outputs": [],
   "source": [
    "y = y.ravel()"
   ]
  },
  {
   "cell_type": "markdown",
   "id": "804997d2",
   "metadata": {},
   "source": [
    "#### Scaling the data"
   ]
  },
  {
   "cell_type": "code",
   "execution_count": 11,
   "id": "8af0c624",
   "metadata": {},
   "outputs": [],
   "source": [
    "scaler = StandardScaler()\n",
    "X = scaler.fit_transform(x)"
   ]
  },
  {
   "cell_type": "markdown",
   "id": "5f211c69",
   "metadata": {},
   "source": [
    "#### Identifying Outliers"
   ]
  },
  {
   "cell_type": "code",
   "execution_count": 12,
   "id": "762bdbd8",
   "metadata": {},
   "outputs": [
    {
     "data": {
      "image/png": "[encoded data removed]",
      "text/plain": [
       "<Figure size 432x288 with 1 Axes>"
      ]
     },
     "metadata": {
      "needs_background": "light"
     },
     "output_type": "display_data"
    }
   ],
   "source": [
    "# Create the scatter plot\n",
    "for i in range(8):\n",
    "    plt.scatter(X[:, i], y)\n",
    "\n",
    "# Add a title and axis labels\n",
    "plt.title('FEATURES VERSUS CLASS')\n",
    "plt.xlabel('Feature Value')\n",
    "plt.ylabel('Class')\n",
    "plt.savefig('featuresversusclass.png', dpi=300)\n",
    "plt.show()"
   ]
  },
  {
   "cell_type": "code",
   "execution_count": 13,
   "id": "f4aba8a0",
   "metadata": {},
   "outputs": [
    {
     "data": {
      "image/png": "[encoded data removed]",
      "text/plain": [
       "<Figure size 432x288 with 1 Axes>"
      ]
     },
     "metadata": {
      "needs_background": "light"
     },
     "output_type": "display_data"
    }
   ],
   "source": [
    "import pandas as pd\n",
    "\n",
    "# Convert the NumPy array y into a pandas Series\n",
    "y_series = pd.Series(y)\n",
    "\n",
    "# Use value_counts() to count unique values and plot a bar chart\n",
    "y_series.value_counts().plot.bar()\n",
    "\n",
    "# Add labels and title\n",
    "plt.xlabel('Class')\n",
    "plt.ylabel('Count')\n",
    "plt.title('Distribution of Classes')\n",
    "plt.show()\n"
   ]
  },
  {
   "cell_type": "markdown",
   "id": "11e4e87e",
   "metadata": {},
   "source": [
    "### Split the data into training and test sets"
   ]
  },
  {
   "cell_type": "code",
   "execution_count": 14,
   "id": "d1574808",
   "metadata": {},
   "outputs": [],
   "source": [
    "X_train, X_val, y_train, y_val = train_test_split(X, y, test_size=0.3, random_state=42)"
   ]
  },
  {
   "cell_type": "markdown",
   "id": "cd27b2c0",
   "metadata": {},
   "source": [
    "## A NAIVE BAYES CLASSIFIER"
   ]
  },
  {
   "cell_type": "code",
   "execution_count": 15,
   "id": "a08ba9db",
   "metadata": {},
   "outputs": [],
   "source": [
    "from sklearn.naive_bayes import GaussianNB\n",
    "from sklearn.model_selection import GridSearchCV\n",
    "from sklearn.metrics import accuracy_score, precision_score, recall_score, f1_score, cohen_kappa_score\n",
    "\n",
    "# Create a Naive Bayes classifier\n",
    "clf = GaussianNB()\n",
    "\n",
    "# Naive Bayes doesn't have hyperparameters to tune with GridSearchCV\n",
    "\n",
    "# Fit the classifier to the training data\n",
    "clf.fit(X_train, y_train)\n",
    "\n",
    "# Make predictions using the trained model\n",
    "naive_bayes_predictions = clf.predict(X_val)"
   ]
  },
  {
   "cell_type": "code",
   "execution_count": 16,
   "id": "5849a976",
   "metadata": {},
   "outputs": [
    {
     "name": "stdout",
     "output_type": "stream",
     "text": [
      "Validation accuracy: 0.6533333333333333\n",
      "Precision: 0.6266666666666667\n",
      "Recall: 0.6619718309859155\n",
      "F1-score: 0.6438356164383562\n",
      "Cohen's Kappa: 0.30666666666666664\n"
     ]
    }
   ],
   "source": [
    "# Calculate accuracy\n",
    "naive_bayes_accuracy = accuracy_score(y_val, naive_bayes_predictions)\n",
    "print(\"Validation accuracy:\", naive_bayes_accuracy)\n",
    "\n",
    "# Calculate precision\n",
    "naive_bayes_precision = precision_score(y_val, naive_bayes_predictions)\n",
    "print(\"Precision:\", naive_bayes_precision)\n",
    "\n",
    "# Calculate recall\n",
    "naive_bayes_recall = recall_score(y_val, naive_bayes_predictions)\n",
    "print(\"Recall:\", naive_bayes_recall)\n",
    "\n",
    "# Calculate F1-score\n",
    "naive_bayes_f1 = f1_score(y_val, naive_bayes_predictions)\n",
    "print(\"F1-score:\", naive_bayes_f1)\n",
    "\n",
    "# Calculate the Cohen's Kappa statistic\n",
    "naive_bayes_kappa = cohen_kappa_score(y_val, naive_bayes_predictions)\n",
    "print(\"Cohen's Kappa:\", naive_bayes_kappa)"
   ]
  },
  {
   "cell_type": "markdown",
   "id": "5814ba18",
   "metadata": {},
   "source": [
    "## DECISION TREES"
   ]
  },
  {
   "cell_type": "code",
   "execution_count": 17,
   "id": "97004c71",
   "metadata": {},
   "outputs": [
    {
     "name": "stdout",
     "output_type": "stream",
     "text": [
      "Best parameters: {'criterion': 'gini', 'max_depth': None, 'min_samples_leaf': 1, 'min_samples_split': 2}\n"
     ]
    }
   ],
   "source": [
    "from sklearn.tree import DecisionTreeClassifier\n",
    "from sklearn.model_selection import GridSearchCV\n",
    "\n",
    "# Create a Decision Tree classifier\n",
    "clf = DecisionTreeClassifier(random_state=0)\n",
    "\n",
    "# Define the parameter grid for grid search\n",
    "param_grid = {\n",
    "    'criterion': ['gini', 'entropy'],\n",
    "    'max_depth': [None, 5, 10, 20],\n",
    "    'min_samples_split': [2, 5, 10],\n",
    "    'min_samples_leaf': [1, 2, 4]\n",
    "}\n",
    "\n",
    "# Create the GridSearchCV object\n",
    "grid_search = GridSearchCV(clf, param_grid, cv=5, scoring='accuracy')\n",
    "\n",
    "# Fit the grid search to the training data\n",
    "grid_search.fit(X_train, y_train)\n",
    "\n",
    "# Get the best parameters and the corresponding model\n",
    "best_params = grid_search.best_params_\n",
    "best_model = grid_search.best_estimator_\n",
    "\n",
    "# Make predictions using the best model\n",
    "decision_tree_predictions = best_model.predict(X_val)\n",
    "\n",
    "print(\"Best parameters:\", best_params)\n"
   ]
  },
  {
   "cell_type": "code",
   "execution_count": 18,
   "id": "7bea60d3",
   "metadata": {},
   "outputs": [
    {
     "name": "stdout",
     "output_type": "stream",
     "text": [
      "Validation accuracy: 0.6333333333333333\n",
      "Precision: 0.6025641025641025\n",
      "Recall: 0.6619718309859155\n",
      "F1-score: 0.6308724832214764\n",
      "Cohen's Kappa: 0.2682277807344332\n"
     ]
    }
   ],
   "source": [
    "# Calculate accuracy\n",
    "decision_tree_accuracy = accuracy_score(y_val, decision_tree_predictions)\n",
    "print(\"Validation accuracy:\", decision_tree_accuracy)\n",
    "\n",
    "# Calculate precision\n",
    "decision_tree_precision = precision_score(y_val, decision_tree_predictions)\n",
    "print(\"Precision:\", decision_tree_precision)\n",
    "\n",
    "# Calculate recall\n",
    "decision_tree_recall = recall_score(y_val, decision_tree_predictions)\n",
    "print(\"Recall:\", decision_tree_recall)\n",
    "\n",
    "# Calculate F1-score\n",
    "decision_tree_f1 = f1_score(y_val, decision_tree_predictions)\n",
    "print(\"F1-score:\", decision_tree_f1)\n",
    "\n",
    "# Calculate the Cohen's Kappa statistic\n",
    "decision_tree_kappa = cohen_kappa_score(y_val, decision_tree_predictions)\n",
    "print(\"Cohen's Kappa:\", decision_tree_kappa)"
   ]
  },
  {
   "cell_type": "markdown",
   "id": "cb2ad901",
   "metadata": {},
   "source": [
    "## SUPPORT VECTOR MACHINES"
   ]
  },
  {
   "cell_type": "code",
   "execution_count": 19,
   "id": "8f7d7f10",
   "metadata": {},
   "outputs": [
    {
     "name": "stdout",
     "output_type": "stream",
     "text": [
      "Best parameters: {'C': 10, 'degree': 2, 'gamma': 'scale', 'kernel': 'rbf'}\n"
     ]
    }
   ],
   "source": [
    "## SUPPORT VECTOR MACHINES\n",
    "from sklearn.svm import SVC\n",
    "from sklearn.model_selection import GridSearchCV\n",
    "from sklearn.metrics import accuracy_score\n",
    "\n",
    "# Create an SVM classifier\n",
    "clf = SVC(random_state=0)\n",
    "\n",
    "# Define the parameter grid for grid search\n",
    "param_grid = {\n",
    "    'C': [0.1, 1, 10],\n",
    "    'kernel': ['linear', 'poly', 'rbf', 'sigmoid'],\n",
    "    'degree': [2, 3, 4],\n",
    "    'gamma': ['scale', 'auto']\n",
    "}\n",
    "\n",
    "# Create the GridSearchCV object\n",
    "grid_search = GridSearchCV(clf, param_grid, cv=5, scoring='accuracy')\n",
    "\n",
    "# Fit the grid search to the training data\n",
    "grid_search.fit(X_train, y_train)\n",
    "\n",
    "# Get the best parameters and the corresponding model\n",
    "best_params = grid_search.best_params_\n",
    "best_model = grid_search.best_estimator_\n",
    "\n",
    "# Make predictions using the best model\n",
    "svm_predictions = best_model.predict(X_val)\n",
    "\n",
    "\n",
    "print(\"Best parameters:\", best_params)"
   ]
  },
  {
   "cell_type": "code",
   "execution_count": 20,
   "id": "da99599e",
   "metadata": {},
   "outputs": [
    {
     "name": "stdout",
     "output_type": "stream",
     "text": [
      "Validation accuracy: 0.7933333333333333\n",
      "Precision: 0.7597402597402597\n",
      "Recall: 0.823943661971831\n",
      "F1-score: 0.7905405405405405\n",
      "Cohen's Kappa: 0.5872536836499201\n"
     ]
    }
   ],
   "source": [
    "# Calculate accuracy\n",
    "svm_accuracy = accuracy_score(y_val, svm_predictions)\n",
    "print(\"Validation accuracy:\", svm_accuracy)\n",
    "\n",
    "# Calculate precision\n",
    "svm_precision = precision_score(y_val, svm_predictions)\n",
    "print(\"Precision:\", svm_precision)\n",
    "\n",
    "# Calculate recall\n",
    "svm_recall = recall_score(y_val, svm_predictions)\n",
    "print(\"Recall:\", svm_recall)\n",
    "\n",
    "# Calculate F1-score\n",
    "svm_f1 = f1_score(y_val, svm_predictions)\n",
    "print(\"F1-score:\", svm_f1)\n",
    "\n",
    "# Calculate the Cohen's Kappa statistic\n",
    "svm_kappa = cohen_kappa_score(y_val, svm_predictions)\n",
    "print(\"Cohen's Kappa:\", svm_kappa)"
   ]
  },
  {
   "cell_type": "markdown",
   "id": "1f66f655",
   "metadata": {},
   "source": [
    "## LOGISTIC REGRESSIONS"
   ]
  },
  {
   "cell_type": "code",
   "execution_count": 21,
   "id": "25fd274f",
   "metadata": {
    "scrolled": true
   },
   "outputs": [
    {
     "name": "stdout",
     "output_type": "stream",
     "text": [
      "Best parameters: {'C': 1, 'penalty': 'l1', 'solver': 'liblinear'}\n"
     ]
    },
    {
     "name": "stderr",
     "output_type": "stream",
     "text": [
      "/Users/mellogwayo/opt/anaconda3/lib/python3.9/site-packages/sklearn/model_selection/_validation.py:372: FitFailedWarning: \n",
      "45 fits failed out of a total of 150.\n",
      "The score on these train-test partitions for these parameters will be set to nan.\n",
      "If these failures are not expected, you can try to debug them by setting error_score='raise'.\n",
      "\n",
      "Below are more details about the failures:\n",
      "--------------------------------------------------------------------------------\n",
      "15 fits failed with the following error:\n",
      "Traceback (most recent call last):\n",
      "  File \"/Users/mellogwayo/opt/anaconda3/lib/python3.9/site-packages/sklearn/model_selection/_validation.py\", line 680, in _fit_and_score\n",
      "    estimator.fit(X_train, y_train, **fit_params)\n",
      "  File \"/Users/mellogwayo/opt/anaconda3/lib/python3.9/site-packages/sklearn/linear_model/_logistic.py\", line 1461, in fit\n",
      "    solver = _check_solver(self.solver, self.penalty, self.dual)\n",
      "  File \"/Users/mellogwayo/opt/anaconda3/lib/python3.9/site-packages/sklearn/linear_model/_logistic.py\", line 447, in _check_solver\n",
      "    raise ValueError(\n",
      "ValueError: Solver newton-cg supports only 'l2' or 'none' penalties, got l1 penalty.\n",
      "\n",
      "--------------------------------------------------------------------------------\n",
      "15 fits failed with the following error:\n",
      "Traceback (most recent call last):\n",
      "  File \"/Users/mellogwayo/opt/anaconda3/lib/python3.9/site-packages/sklearn/model_selection/_validation.py\", line 680, in _fit_and_score\n",
      "    estimator.fit(X_train, y_train, **fit_params)\n",
      "  File \"/Users/mellogwayo/opt/anaconda3/lib/python3.9/site-packages/sklearn/linear_model/_logistic.py\", line 1461, in fit\n",
      "    solver = _check_solver(self.solver, self.penalty, self.dual)\n",
      "  File \"/Users/mellogwayo/opt/anaconda3/lib/python3.9/site-packages/sklearn/linear_model/_logistic.py\", line 447, in _check_solver\n",
      "    raise ValueError(\n",
      "ValueError: Solver lbfgs supports only 'l2' or 'none' penalties, got l1 penalty.\n",
      "\n",
      "--------------------------------------------------------------------------------\n",
      "15 fits failed with the following error:\n",
      "Traceback (most recent call last):\n",
      "  File \"/Users/mellogwayo/opt/anaconda3/lib/python3.9/site-packages/sklearn/model_selection/_validation.py\", line 680, in _fit_and_score\n",
      "    estimator.fit(X_train, y_train, **fit_params)\n",
      "  File \"/Users/mellogwayo/opt/anaconda3/lib/python3.9/site-packages/sklearn/linear_model/_logistic.py\", line 1461, in fit\n",
      "    solver = _check_solver(self.solver, self.penalty, self.dual)\n",
      "  File \"/Users/mellogwayo/opt/anaconda3/lib/python3.9/site-packages/sklearn/linear_model/_logistic.py\", line 447, in _check_solver\n",
      "    raise ValueError(\n",
      "ValueError: Solver sag supports only 'l2' or 'none' penalties, got l1 penalty.\n",
      "\n",
      "  warnings.warn(some_fits_failed_message, FitFailedWarning)\n",
      "/Users/mellogwayo/opt/anaconda3/lib/python3.9/site-packages/sklearn/model_selection/_search.py:969: UserWarning: One or more of the test scores are non-finite: [       nan        nan 0.66              nan 0.66       0.65857143\n",
      " 0.65857143 0.65714286 0.65857143 0.65857143        nan        nan\n",
      " 0.67              nan 0.67       0.66571429 0.66571429 0.66571429\n",
      " 0.66571429 0.66571429        nan        nan 0.66571429        nan\n",
      " 0.66571429 0.66571429 0.66571429 0.66571429 0.66571429 0.66571429]\n",
      "  warnings.warn(\n"
     ]
    }
   ],
   "source": [
    "from sklearn.linear_model import LogisticRegression\n",
    "from sklearn.model_selection import GridSearchCV\n",
    "from sklearn.metrics import accuracy_score\n",
    "\n",
    "# Create a Logistic Regression classifier\n",
    "clf = LogisticRegression(max_iter=10000)\n",
    "\n",
    "# Define the parameter grid for grid search\n",
    "param_grid = {\n",
    "    'penalty': ['l1', 'l2'],\n",
    "    'C': [0.1, 1, 10],\n",
    "    'solver': ['newton-cg', 'lbfgs', 'liblinear', 'sag', 'saga']\n",
    "}\n",
    "\n",
    "# Create the GridSearchCV object\n",
    "grid_search = GridSearchCV(clf, param_grid, cv=5, scoring='accuracy')\n",
    "\n",
    "# Fit the grid search to the training data\n",
    "grid_search.fit(X_train, y_train)\n",
    "\n",
    "# Get the best parameters and the corresponding model\n",
    "best_params = grid_search.best_params_\n",
    "best_model = grid_search.best_estimator_\n",
    "\n",
    "# Make predictions using the best model\n",
    "logistic_regression_predictions = best_model.predict(X_val)\n",
    "\n",
    "print(\"Best parameters:\", best_params)"
   ]
  },
  {
   "cell_type": "code",
   "execution_count": 22,
   "id": "984125fa",
   "metadata": {},
   "outputs": [
    {
     "name": "stdout",
     "output_type": "stream",
     "text": [
      "Validation accuracy: 0.66\n",
      "Precision: 0.6470588235294118\n",
      "Recall: 0.6197183098591549\n",
      "F1-score: 0.6330935251798561\n",
      "Cohen's Kappa: 0.3165981775951402\n"
     ]
    }
   ],
   "source": [
    "# Calculate accuracy\n",
    "logistic_regression_accuracy = accuracy_score(y_val, logistic_regression_predictions)\n",
    "print(\"Validation accuracy:\", logistic_regression_accuracy)\n",
    "\n",
    "# Calculate precision\n",
    "logistic_regression_precision = precision_score(y_val, logistic_regression_predictions)\n",
    "print(\"Precision:\", logistic_regression_precision)\n",
    "\n",
    "# Calculate recall\n",
    "logistic_regression_recall = recall_score(y_val, logistic_regression_predictions)\n",
    "print(\"Recall:\", logistic_regression_recall)\n",
    "\n",
    "# Calculate F1-score\n",
    "logistic_regression_f1 = f1_score(y_val, logistic_regression_predictions)\n",
    "print(\"F1-score:\", logistic_regression_f1)\n",
    "\n",
    "# Calculate the Cohen's Kappa statistic\n",
    "logistic_regression_kappa = cohen_kappa_score(y_val, logistic_regression_predictions)\n",
    "print(\"Cohen's Kappa:\", logistic_regression_kappa)"
   ]
  },
  {
   "cell_type": "code",
   "execution_count": 23,
   "id": "056a7c67",
   "metadata": {},
   "outputs": [
    {
     "name": "stdout",
     "output_type": "stream",
     "text": [
      "            Classifier  Accuracy  Precision    Recall  F1-Score  Cohen's Kappa\n",
      "0          Naive Bayes  0.653333   0.626667  0.661972  0.643836       0.306667\n",
      "1        Decision Tree  0.633333   0.602564  0.661972  0.630872       0.268228\n",
      "2                  SVM  0.793333   0.759740  0.823944  0.790541       0.587254\n",
      "3  Logistic Regression  0.660000   0.647059  0.619718  0.633094       0.316598\n"
     ]
    }
   ],
   "source": [
    "import pandas as pd\n",
    "\n",
    "# Create a dictionary to store the accuracy measures\n",
    "accuracy_measures = {\n",
    "    \"Classifier\": [\"Naive Bayes\", \"Decision Tree\", \"SVM\", \"Logistic Regression\"],\n",
    "    \"Accuracy\": [naive_bayes_accuracy, decision_tree_accuracy, svm_accuracy, logistic_regression_accuracy],\n",
    "    \"Precision\": [naive_bayes_precision, decision_tree_precision, svm_precision, logistic_regression_precision],\n",
    "    \"Recall\": [naive_bayes_recall, decision_tree_recall, svm_recall, logistic_regression_recall],\n",
    "    \"F1-Score\": [naive_bayes_f1, decision_tree_f1, svm_f1, logistic_regression_f1],\n",
    "    \"Cohen's Kappa\": [naive_bayes_kappa, decision_tree_kappa, svm_kappa, logistic_regression_kappa]\n",
    "}\n",
    "\n",
    "# Create a DataFrame from the dictionary\n",
    "accuracy_df = pd.DataFrame(accuracy_measures)\n",
    "\n",
    "# Print the DataFrame\n",
    "print(accuracy_df)\n"
   ]
  },
  {
   "cell_type": "code",
   "execution_count": 24,
   "id": "d9af79af",
   "metadata": {},
   "outputs": [
    {
     "data": {
      "image/png": "[encoded data removed]",
      "text/plain": [
       "<Figure size 720x432 with 1 Axes>"
      ]
     },
     "metadata": {},
     "output_type": "display_data"
    }
   ],
   "source": [
    "import pandas as pd\n",
    "import seaborn as sns\n",
    "import matplotlib.pyplot as plt\n",
    "\n",
    "# Assuming you have a DataFrame named accuracy_df\n",
    "\n",
    "# Set the style of the plot\n",
    "sns.set(style=\"whitegrid\")\n",
    "\n",
    "# Melt the DataFrame to create a suitable format for the plot\n",
    "melted_df = accuracy_df.melt(id_vars='Classifier', var_name='Metric', value_name='Score')\n",
    "\n",
    "# Create the grouped bar plot using seaborn\n",
    "plt.figure(figsize=(10, 6))\n",
    "sns.barplot(x='Classifier', y='Score', hue='Metric', data=melted_df, palette='viridis')\n",
    "\n",
    "# Add labels and title\n",
    "plt.xlabel('Classifier', fontweight='bold')\n",
    "plt.ylabel('Score')\n",
    "plt.title('Comparison of Accuracy Measures for Different Classifiers')\n",
    "\n",
    "# Rotate x-axis labels for better visibility\n",
    "plt.xticks(rotation=45)\n",
    "\n",
    "# Show the legend\n",
    "plt.legend()\n",
    "\n",
    "# Show the plot\n",
    "plt.tight_layout()\n",
    "plt.show()\n"
   ]
  },
  {
   "cell_type": "markdown",
   "id": "5bfa65bc",
   "metadata": {},
   "source": [
    "### support vector machines performed the best "
   ]
  },
  {
   "cell_type": "code",
   "execution_count": 25,
   "id": "c7218af2",
   "metadata": {},
   "outputs": [],
   "source": [
    "import numpy as np\n",
    "from sklearn.metrics import confusion_matrix\n",
    "from sklearn.model_selection import train_test_split\n",
    "from sklearn.svm import SVC\n",
    "\n",
    "# Assuming you have your data and target variables (X and y)\n",
    "\n",
    "# Split the data into training and validation sets\n",
    "X_train, X_val, y_train, y_val = train_test_split(X, y, test_size=0.2, random_state=0)\n",
    "\n",
    "# Create and train an SVM classifier with the best parameters\n",
    "clf = SVC(C=10, kernel='rbf', degree=2, gamma='scale', probability=True)\n",
    "clf.fit(X_train, y_train)\n",
    "\n",
    "# Make predictions on the validation set\n",
    "predictions = clf.predict(X_val)"
   ]
  },
  {
   "cell_type": "code",
   "execution_count": 26,
   "id": "0a317da2",
   "metadata": {},
   "outputs": [
    {
     "data": {
      "image/png": "[encoded data removed]",
      "text/plain": [
       "<Figure size 576x432 with 1 Axes>"
      ]
     },
     "metadata": {},
     "output_type": "display_data"
    }
   ],
   "source": [
    "import seaborn as sns\n",
    "import matplotlib.pyplot as plt\n",
    "\n",
    "# Calculate the confusion matrix\n",
    "cm = confusion_matrix(y_val, predictions)\n",
    "\n",
    "# Visualize the confusion matrix using a heatmap\n",
    "plt.figure(figsize=(8, 6))\n",
    "sns.heatmap(cm, annot=True, fmt=\"d\", cmap=\"Blues\", cbar=False)\n",
    "plt.title(\"Confusion Matrix\")\n",
    "plt.xlabel(\"Predicted Labels\")\n",
    "plt.ylabel(\"True Labels\")\n",
    "plt.show()"
   ]
  }
 ],
 "metadata": {
  "kernelspec": {
   "display_name": "Python 3 (ipykernel)",
   "language": "python",
   "name": "python3"
  },
  "language_info": {
   "codemirror_mode": {
    "name": "ipython",
    "version": 3
   },
   "file_extension": ".py",
   "mimetype": "text/x-python",
   "name": "python",
   "nbconvert_exporter": "python",
   "pygments_lexer": "ipython3",
   "version": "3.9.12"
  }
 },
 "nbformat": 4,
 "nbformat_minor": 5
}
